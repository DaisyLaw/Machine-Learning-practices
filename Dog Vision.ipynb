{
  "nbformat": 4,
  "nbformat_minor": 0,
  "metadata": {
    "colab": {
      "provenance": [],
      "private_outputs": true,
      "mount_file_id": "1rWuGYvKiF5-Cq4L8kOEKQZ76LUjmpCqF",
      "authorship_tag": "ABX9TyNaagfXxRwLSEsYywRZObe3",
      "include_colab_link": true
    },
    "kernelspec": {
      "name": "python3",
      "display_name": "Python 3"
    },
    "language_info": {
      "name": "python"
    },
    "accelerator": "GPU",
    "gpuClass": "standard"
  },
  "cells": [
    {
      "cell_type": "markdown",
      "metadata": {
        "id": "view-in-github",
        "colab_type": "text"
      },
      "source": [
        "<a href=\"https://colab.research.google.com/github/DaisyLaw/Machine-Learning-practices/blob/main/dog_vision.ipynb\" target=\"_parent\"><img src=\"https://colab.research.google.com/assets/colab-badge.svg\" alt=\"Open In Colab\"/></a>"
      ]
    },
    {
      "cell_type": "code",
      "source": [
        "!pip install --quiet tf_keras"
      ],
      "metadata": {
        "id": "7WPoVX3Jd8qa"
      },
      "execution_count": null,
      "outputs": []
    },
    {
      "cell_type": "code",
      "source": [
        "import os\n",
        "os.environ['TF_USE_LEGACY_KERAS'] = '1'"
      ],
      "metadata": {
        "id": "yQ1KWDaQhNXH"
      },
      "execution_count": null,
      "outputs": []
    },
    {
      "cell_type": "code",
      "execution_count": null,
      "metadata": {
        "id": "foHwcq5JXUzI"
      },
      "outputs": [],
      "source": [
        "import pandas as pd\n",
        "import numpy as np"
      ]
    },
    {
      "cell_type": "code",
      "source": [
        "import tensorflow as tf\n",
        "import tensorflow_hub as hub\n",
        "print(\"TF version:\", tf.__version__)\n",
        "print(\"TF Hub version:\", hub.__version__)\n",
        "\n",
        "print(\"GPU available!\" if tf.config.list_physical_devices(\"GPU\") else \"not available\")"
      ],
      "metadata": {
        "id": "sejX2h7oXkMS"
      },
      "execution_count": null,
      "outputs": []
    },
    {
      "cell_type": "code",
      "source": [
        "import pandas as pd\n",
        "labels_csv = pd.read_csv(\"/content/sample_data/Dog_Vision/labels.csv\")\n",
        "print(labels_csv.describe())\n",
        "labels_csv.head()"
      ],
      "metadata": {
        "id": "FVNvJXpPz3Qw"
      },
      "execution_count": null,
      "outputs": []
    },
    {
      "cell_type": "code",
      "source": [
        "labels_csv[\"breed\"].value_counts().plot.bar(figsize=(20, 10));"
      ],
      "metadata": {
        "id": "Y8LONW6VLFil"
      },
      "execution_count": null,
      "outputs": []
    },
    {
      "cell_type": "code",
      "source": [
        "labels_csv[\"breed\"].value_counts().median()"
      ],
      "metadata": {
        "id": "WRLuS_GML27J"
      },
      "execution_count": null,
      "outputs": []
    },
    {
      "cell_type": "code",
      "source": [
        "cp \"/content/sample_data/Dog_Vision/train.zip\" \".\""
      ],
      "metadata": {
        "id": "EDmFlJqVQB1i"
      },
      "execution_count": null,
      "outputs": []
    },
    {
      "cell_type": "code",
      "source": [
        "!unzip /content/sample_data/Dog_Vision/train.zip -d /content/sample_data/Dog_Vision"
      ],
      "metadata": {
        "id": "B2WYX4w8OPr9"
      },
      "execution_count": null,
      "outputs": []
    },
    {
      "cell_type": "code",
      "source": [
        "from IPython.display import Image\n",
        "Image(\"/content/sample_data/Dog_Vision/train/001513dfcb2ffafc82cccf4d8bbaba97.jpg\")"
      ],
      "metadata": {
        "id": "4LW-vc6Whf4v"
      },
      "execution_count": null,
      "outputs": []
    },
    {
      "cell_type": "code",
      "source": [
        "filenames = [\"/content/sample_data/Dog_Vision/train/\" + fname + \".jpg\" for fname in labels_csv[\"id\"]]\n",
        "filenames[:10]"
      ],
      "metadata": {
        "id": "5YuVjVTiiLXc"
      },
      "execution_count": null,
      "outputs": []
    },
    {
      "cell_type": "code",
      "source": [
        "import os\n",
        "if len(os.listdir(\"/content/sample_data/Dog_Vision/train/\")) == len(filenames):\n",
        "  print(\"Filenames match actual amount of files! Proceed.\")\n",
        "else:\n",
        "  print(\"Filenames do not match actual amount of files, check the target directory.\")"
      ],
      "metadata": {
        "id": "esOW56fGi7Uy"
      },
      "execution_count": null,
      "outputs": []
    },
    {
      "cell_type": "code",
      "source": [
        "Image(filenames[9000])"
      ],
      "metadata": {
        "id": "Vzajs-lvkLxS"
      },
      "execution_count": null,
      "outputs": []
    },
    {
      "cell_type": "code",
      "source": [
        "len(filenames)"
      ],
      "metadata": {
        "id": "jCRjExTwlvZK"
      },
      "execution_count": null,
      "outputs": []
    },
    {
      "cell_type": "code",
      "source": [
        "labels_csv[\"breed\"][9000]"
      ],
      "metadata": {
        "id": "kFj-3clHlzHn"
      },
      "execution_count": null,
      "outputs": []
    },
    {
      "cell_type": "code",
      "source": [
        "labels = np.array(labels_csv[\"breed\"])\n",
        "labels"
      ],
      "metadata": {
        "id": "XyesVoiOowaa"
      },
      "execution_count": null,
      "outputs": []
    },
    {
      "cell_type": "code",
      "source": [
        "len(labels)"
      ],
      "metadata": {
        "id": "FGY495hGpJia"
      },
      "execution_count": null,
      "outputs": []
    },
    {
      "cell_type": "code",
      "source": [
        "len(labels) == len(filenames)"
      ],
      "metadata": {
        "id": "fKh0BcgRpYXa"
      },
      "execution_count": null,
      "outputs": []
    },
    {
      "cell_type": "code",
      "source": [
        "unique_labels = np.unique(labels)\n",
        "unique_labels"
      ],
      "metadata": {
        "id": "TxJU6cgCph8U"
      },
      "execution_count": null,
      "outputs": []
    },
    {
      "cell_type": "code",
      "source": [
        "len(unique_labels)"
      ],
      "metadata": {
        "id": "G7_abp9sp-yF"
      },
      "execution_count": null,
      "outputs": []
    },
    {
      "cell_type": "code",
      "source": [
        "boolean_labels = [label == unique_labels for label in labels]\n",
        "boolean_labels[:2]"
      ],
      "metadata": {
        "id": "eiRqGDqBqCXe"
      },
      "execution_count": null,
      "outputs": []
    },
    {
      "cell_type": "code",
      "source": [
        "len(boolean_labels)"
      ],
      "metadata": {
        "id": "rVLUNkV1rEeS"
      },
      "execution_count": null,
      "outputs": []
    },
    {
      "cell_type": "code",
      "source": [
        "print(labels[0])\n",
        "print(np.where(unique_labels == labels[0]))\n",
        "print(boolean_labels[0].argmax())\n",
        "print(boolean_labels[0].astype(int))"
      ],
      "metadata": {
        "id": "O8BpkDpPrKEn"
      },
      "execution_count": null,
      "outputs": []
    },
    {
      "cell_type": "code",
      "source": [
        "X = filenames\n",
        "y = boolean_labels"
      ],
      "metadata": {
        "id": "ASw7fRX0ug1-"
      },
      "execution_count": null,
      "outputs": []
    },
    {
      "cell_type": "code",
      "source": [
        "NUM_IMAGES = 1000 #@param {type: \"slider\", min: 1000, max: 10000, step: 1000}"
      ],
      "metadata": {
        "id": "K6pSfMLDtp4M"
      },
      "execution_count": null,
      "outputs": []
    },
    {
      "cell_type": "code",
      "source": [
        "from sklearn.model_selection import train_test_split\n",
        "\n",
        "X_train, X_val, y_train, y_val = train_test_split(X[:NUM_IMAGES],\n",
        "                                                  y[:NUM_IMAGES],\n",
        "                                                  test_size=0.2,\n",
        "                                                  random_state=42)\n",
        "\n",
        "len(X_train), len(X_val), len(y_train), len(y_val)"
      ],
      "metadata": {
        "id": "eqzSypKyuyWe"
      },
      "execution_count": null,
      "outputs": []
    },
    {
      "cell_type": "code",
      "source": [
        "X_train[:5], y_train[:2]"
      ],
      "metadata": {
        "id": "7SOJb1TVvmw6"
      },
      "execution_count": null,
      "outputs": []
    },
    {
      "cell_type": "code",
      "source": [
        "from matplotlib.pyplot import imread\n",
        "image = imread(filenames[42])\n",
        "image.shape"
      ],
      "metadata": {
        "id": "no1RyNF7w0Uf"
      },
      "execution_count": null,
      "outputs": []
    },
    {
      "cell_type": "code",
      "source": [
        "tf.constant(image)"
      ],
      "metadata": {
        "id": "9_Tgpl-pycmX"
      },
      "execution_count": null,
      "outputs": []
    },
    {
      "cell_type": "code",
      "source": [
        "IMG_SIZE = 224\n",
        "\n",
        "def process_image(image_path, image_size=IMG_SIZE):\n",
        "\n",
        "  image = tf.io.read_file(image_path)\n",
        "  image = tf.image.decode_jpeg(image, channels=3)\n",
        "  image = tf.image.convert_image_dtype(image, tf.float32)\n",
        "  image = tf.image.resize(image, size=[IMG_SIZE, IMG_SIZE])\n",
        "\n",
        "  return image"
      ],
      "metadata": {
        "id": "ne0dmR21OPYk"
      },
      "execution_count": null,
      "outputs": []
    },
    {
      "cell_type": "code",
      "source": [
        "def get_image_label(image_path, label):\n",
        "\n",
        "  image = process_image(image_path)\n",
        "\n",
        "  return image, label"
      ],
      "metadata": {
        "id": "Kk7j4AUVQ-pz"
      },
      "execution_count": null,
      "outputs": []
    },
    {
      "cell_type": "code",
      "source": [
        "BATCH_SIZE = 32\n",
        "\n",
        "def create_data_batches(X, y=None, batch_size=BATCH_SIZE, valid_data=False, test_data=False):\n",
        "  if test_data:\n",
        "    print(\"Creating test data batches...\")\n",
        "    data = tf.data.Dataset.from_tensor_slices((tf.constant(X)))\n",
        "    data_batch = data.map(process_image).batch(BATCH_SIZE)\n",
        "    return data_batch\n",
        "\n",
        "  elif valid_data:\n",
        "    print(\"Creating validatiion data batches...\")\n",
        "    data = tf.data.Dataset.from_tensor_slices((tf.constant(X),\n",
        "                                              tf.constant(y)))\n",
        "    data_batch = data.map(get_image_label).batch(BATCH_SIZE)\n",
        "    return data_batch\n",
        "\n",
        "  else:\n",
        "    print(\"Creating training data batches...\")\n",
        "    data = tf.data.Dataset.from_tensor_slices((tf.constant(X),\n",
        "                                               tf.constant(y)))\n",
        "    data = data.shuffle(buffer_size=len(X))\n",
        "    data_batch = data.map(get_image_label).batch(BATCH_SIZE)\n",
        "    return data_batch"
      ],
      "metadata": {
        "id": "WVLX3Hi8Uq3Y"
      },
      "execution_count": null,
      "outputs": []
    },
    {
      "cell_type": "code",
      "source": [
        "train_data = create_data_batches(X_train, y_train)\n",
        "val_data = create_data_batches(X_val, y_val, valid_data=True)"
      ],
      "metadata": {
        "id": "i_hibAp9Lk3s"
      },
      "execution_count": null,
      "outputs": []
    },
    {
      "cell_type": "code",
      "source": [
        "train_data.element_spec, val_data.element_spec"
      ],
      "metadata": {
        "id": "y-TII4OcPxFa"
      },
      "execution_count": null,
      "outputs": []
    },
    {
      "cell_type": "code",
      "source": [
        "import matplotlib.pyplot as plt\n",
        "\n",
        "def show_25_images(images, labels):\n",
        "\n",
        "  plt.figure(figsize=(10, 10))\n",
        "\n",
        "  for i in range(25):\n",
        "    ax = plt.subplot(5, 5, i+1)\n",
        "    plt.imshow(images[i])\n",
        "    plt.title(unique_labels[labels[i].argmax()])\n",
        "    plt.axis(\"off\")"
      ],
      "metadata": {
        "id": "fyAYLFOBQCZ2"
      },
      "execution_count": null,
      "outputs": []
    },
    {
      "cell_type": "code",
      "source": [
        "train_images, train_labels = next(train_data.as_numpy_iterator())\n",
        "show_25_images(train_images, train_labels)"
      ],
      "metadata": {
        "id": "DkxSPcXhSP94"
      },
      "execution_count": null,
      "outputs": []
    },
    {
      "cell_type": "code",
      "source": [
        "val_images, val_labels = next(val_data.as_numpy_iterator())\n",
        "show_25_images(val_images, val_labels)"
      ],
      "metadata": {
        "id": "XNEKpDPIhTfp"
      },
      "execution_count": null,
      "outputs": []
    },
    {
      "cell_type": "code",
      "source": [
        "INPUT_SHAPE = [None, IMG_SIZE, IMG_SIZE, 3]\n",
        "OUTPUT_SHAPE = len(unique_labels)\n",
        "MODEL_URL = \"https://www.kaggle.com/models/google/mobilenet-v2/tensorFlow2/130-224-classification/2\""
      ],
      "metadata": {
        "id": "B_t2L0VWjYGS"
      },
      "execution_count": null,
      "outputs": []
    },
    {
      "cell_type": "code",
      "source": [
        "import tf_keras\n",
        "\n",
        "def create_model(input_shape=INPUT_SHAPE, output_shape=OUTPUT_SHAPE, model_url=MODEL_URL):\n",
        "  print(\"Building model with:\", MODEL_URL)\n",
        "\n",
        "  model = tf_keras.Sequential([\n",
        "    hub.KerasLayer(MODEL_URL), # Layer 1 (input layer)\n",
        "    tf_keras.layers.Dense(units=OUTPUT_SHAPE,\n",
        "                          activation=\"softmax\") # Layer 2 (output layer)\n",
        "  ])\n",
        "\n",
        "  model.compile(\n",
        "      loss=tf_keras.losses.CategoricalCrossentropy(),\n",
        "      optimizer=tf_keras.optimizers.Adam(),\n",
        "      metrics=[\"accuracy\"]\n",
        "  )\n",
        "\n",
        "  model.build(INPUT_SHAPE)\n",
        "\n",
        "  return model"
      ],
      "metadata": {
        "id": "-0nCOWh5GgQ_"
      },
      "execution_count": null,
      "outputs": []
    },
    {
      "cell_type": "code",
      "source": [
        "model = create_model()\n",
        "model.summary()"
      ],
      "metadata": {
        "id": "TLIYX0T-yj31"
      },
      "execution_count": null,
      "outputs": []
    },
    {
      "cell_type": "code",
      "source": [
        "%load_ext tensorboard"
      ],
      "metadata": {
        "id": "554EoAcJyz9y"
      },
      "execution_count": null,
      "outputs": []
    },
    {
      "cell_type": "code",
      "source": [
        "import datetime\n",
        "import os\n",
        "\n",
        "def create_tensorboard_callback():\n",
        "  logdir = os.path.join(\"/content/sample_data/Dog_Vision/logs\",\n",
        "                        datetime.datetime.now().strftime(\"%Y%m%d-%H%M%S\"))\n",
        "  return tf_keras.callbacks.TensorBoard(logdir)"
      ],
      "metadata": {
        "id": "qTl6Gnf91Kx4"
      },
      "execution_count": null,
      "outputs": []
    },
    {
      "cell_type": "code",
      "source": [
        "early_stopping = tf_keras.callbacks.EarlyStopping(monitor=\"val_accuracy\",\n",
        "                                                  patience=3)"
      ],
      "metadata": {
        "id": "VadPpX2k-32j"
      },
      "execution_count": null,
      "outputs": []
    },
    {
      "cell_type": "code",
      "source": [
        "NUM_EPOCHS = 100 #@param {type: \"slider\", min:10, max:100, step:10}"
      ],
      "metadata": {
        "id": "5T3uArJMWueA"
      },
      "execution_count": null,
      "outputs": []
    },
    {
      "cell_type": "code",
      "source": [
        "print(\"GPU available\" if tf.config.list_physical_devices(\"GPU\") else \"not available\")"
      ],
      "metadata": {
        "id": "53A7Or7AXkSv"
      },
      "execution_count": null,
      "outputs": []
    },
    {
      "cell_type": "code",
      "source": [
        "def train_model():\n",
        "\n",
        "  model = create_model()\n",
        "  tensorboard = create_tensorboard_callback()\n",
        "  model.fit(x=train_data,\n",
        "            epochs=NUM_EPOCHS,\n",
        "            validation_data=val_data,\n",
        "            validation_freq=1,\n",
        "            callbacks=[tensorboard, early_stopping])\n",
        "\n",
        "  return model"
      ],
      "metadata": {
        "id": "iLpaOjSEX1UD"
      },
      "execution_count": null,
      "outputs": []
    },
    {
      "cell_type": "code",
      "source": [
        "model = train_model()"
      ],
      "metadata": {
        "id": "4A5dWVFrlZLe"
      },
      "execution_count": null,
      "outputs": []
    },
    {
      "cell_type": "code",
      "source": [
        "%tensorboard --logdir /content/sample_data/Dog_Vision/logs"
      ],
      "metadata": {
        "id": "bndZ5K5wlzY4"
      },
      "execution_count": null,
      "outputs": []
    },
    {
      "cell_type": "code",
      "source": [
        "predictions = model.predict(val_data, verbose=1)\n",
        "predictions"
      ],
      "metadata": {
        "id": "4UlKE73R6Vfx"
      },
      "execution_count": null,
      "outputs": []
    },
    {
      "cell_type": "code",
      "source": [
        "predictions.shape"
      ],
      "metadata": {
        "id": "qnhb1uE4N3Ec"
      },
      "execution_count": null,
      "outputs": []
    },
    {
      "cell_type": "code",
      "source": [
        "print(predictions[0])\n",
        "print(f\"Max value (probability of prediction): {np.max(predictions[0])}\")\n",
        "print(f\"Sum: {np.sum(predictions[0])}\")\n",
        "print(f\"Max index: {np.argmax(predictions[0])}\")\n",
        "print(f\"Predicted label: {unique_labels[np.argmax(predictions[0])]}\")"
      ],
      "metadata": {
        "id": "zyUR-45EN-NN"
      },
      "execution_count": null,
      "outputs": []
    },
    {
      "cell_type": "code",
      "source": [
        "def get_pred_label(prediction_probabilities):\n",
        "  return unique_labels[np.argmax(prediction_probabilities)]\n",
        "\n",
        "pred_label = get_pred_label(predictions[0])\n",
        "pred_label"
      ],
      "metadata": {
        "id": "YRnKe2YzOFkI"
      },
      "execution_count": null,
      "outputs": []
    },
    {
      "cell_type": "code",
      "source": [
        "def unbatchify(data):\n",
        "  images = []\n",
        "  labels = []\n",
        "\n",
        "  for image, label in data.unbatch().as_numpy_iterator():\n",
        "    images.append(image)\n",
        "    labels.append(unique_labels[np.argmax(label)])\n",
        "\n",
        "  return images, labels\n",
        "\n",
        "val_images, val_labels = unbatchify(val_data)\n",
        "val_images[0], val_labels[0]"
      ],
      "metadata": {
        "id": "0gbvCPQhyuKq"
      },
      "execution_count": null,
      "outputs": []
    },
    {
      "cell_type": "code",
      "source": [
        "def plot_pred(prediction_probabilities, labels, images, n=1):\n",
        "\n",
        "  pred_prob, true_label, image = prediction_probabilities[n], labels[n], images[n]\n",
        "\n",
        "  pred_label = get_pred_label(pred_prob)\n",
        "\n",
        "  plt.imshow(image)\n",
        "  plt.xticks([])\n",
        "  plt.yticks([])\n",
        "\n",
        "  if pred_label == true_label:\n",
        "    colour = \"green\"\n",
        "  else:\n",
        "    colour = \"red\"\n",
        "\n",
        "  plt.title(\"{} {:2.0f}% ({})\".format(pred_label,\n",
        "                                      np.max(pred_prob)*100,\n",
        "                                      true_label),\n",
        "                                      color = colour)"
      ],
      "metadata": {
        "id": "dZOmr_cnzIik"
      },
      "execution_count": null,
      "outputs": []
    },
    {
      "cell_type": "code",
      "source": [
        "plot_pred(prediction_probabilities=predictions,\n",
        "          labels=val_labels,\n",
        "          images=val_images)"
      ],
      "metadata": {
        "id": "eC6_NUWgpy8U"
      },
      "execution_count": null,
      "outputs": []
    },
    {
      "cell_type": "code",
      "source": [
        "def plot_pred_conf(prediction_probabilities, labels, n=1):\n",
        "  pred_prob, true_label = prediction_probabilities[n], labels[n]\n",
        "\n",
        "  pred_label = get_pred_label(pred_prob)\n",
        "  top_10_pred_indexes = pred_prob.argsort()[-10:][::-1]\n",
        "  top_10_pred_values = pred_prob[top_10_pred_indexes]\n",
        "  top_10_pred_labels = unique_labels[top_10_pred_indexes]\n",
        "\n",
        "  top_plot = plt.bar(np.arange(len(top_10_pred_labels)),\n",
        "                     top_10_pred_values,\n",
        "                     color=\"grey\")\n",
        "  plt.xticks(np.arange(len(top_10_pred_labels)),\n",
        "             labels=top_10_pred_labels,\n",
        "             rotation=\"vertical\")\n",
        "\n",
        "  if np.isin(true_label, top_10_pred_labels):\n",
        "    top_plot[np.argmax(top_10_pred_labels == true_label)].set_color(\"green\")\n",
        "  else:\n",
        "    pass"
      ],
      "metadata": {
        "id": "N89pFelDqCrs"
      },
      "execution_count": null,
      "outputs": []
    },
    {
      "cell_type": "code",
      "source": [
        "plot_pred_conf(prediction_probabilities=predictions,\n",
        "               labels=val_labels,\n",
        "               n=199)"
      ],
      "metadata": {
        "id": "H6pAo_OyNUp8"
      },
      "execution_count": null,
      "outputs": []
    },
    {
      "cell_type": "code",
      "source": [
        "i_multiplier = 18\n",
        "num_rows = 3\n",
        "num_cols = 2\n",
        "num_images = num_rows * num_cols\n",
        "\n",
        "plt.figure(figsize=(5*2*num_cols, 5*num_rows))\n",
        "\n",
        "for i in range(num_images):\n",
        "  plt.subplot(num_rows, 2*num_cols, 2*i+1)\n",
        "  plot_pred(prediction_probabilities=predictions,\n",
        "            labels=val_labels,\n",
        "            images=val_images,\n",
        "            n=i+i_multiplier)\n",
        "  plt.subplot(num_rows, 2*num_cols, 2*i+2)\n",
        "  plot_pred_conf(prediction_probabilities=predictions,\n",
        "                 labels=val_labels,\n",
        "                 n=i+i_multiplier)\n",
        "\n",
        "plt.tight_layout(h_pad=1.0)\n",
        "plt.show()"
      ],
      "metadata": {
        "id": "SZUnhHI0Ntk1"
      },
      "execution_count": null,
      "outputs": []
    },
    {
      "cell_type": "code",
      "source": [
        "def save_model(model, suffix=None):\n",
        "\n",
        "  modeldir = os.path.join(\"/content/sample_data/Dog_Vision/models\",\n",
        "                          datetime.datetime.now().strftime(\"%Y%m%d-%H%M%s\"))\n",
        "  model_path = modeldir + \"-\" + suffix + \".keras\"\n",
        "  print(f\"Saving model to: {model_path}\")\n",
        "  model.save(model_path)\n",
        "\n",
        "  return model_path"
      ],
      "metadata": {
        "id": "O14xxcT3RVcn"
      },
      "execution_count": null,
      "outputs": []
    },
    {
      "cell_type": "code",
      "source": [
        "def load_model(model_path):\n",
        "\n",
        "  print(\"Loading saved model from: {model_path}\")\n",
        "  model = tf_keras.models.load_model(model_path,\n",
        "                                     custom_objects={\"KerasLayer\": hub.KerasLayer})\n",
        "\n",
        "  return model"
      ],
      "metadata": {
        "id": "uiqAeTSV8Q_J"
      },
      "execution_count": null,
      "outputs": []
    },
    {
      "cell_type": "code",
      "source": [
        "save_model(model, suffix=\"1000-images-Adam\")"
      ],
      "metadata": {
        "id": "g0BLECVD9riv"
      },
      "execution_count": null,
      "outputs": []
    },
    {
      "cell_type": "code",
      "source": [
        "model_1000_images = load_model(\"/content/sample_data/Dog_Vision/models/20240829-03351724902514-1000-images-Adam.keras\")"
      ],
      "metadata": {
        "id": "3d3v79in95cb"
      },
      "execution_count": null,
      "outputs": []
    },
    {
      "cell_type": "code",
      "source": [
        "model.evaluate(val_data)"
      ],
      "metadata": {
        "id": "voUPI1W4-DMA"
      },
      "execution_count": null,
      "outputs": []
    },
    {
      "cell_type": "code",
      "source": [
        "model_1000_images.evaluate(val_data)"
      ],
      "metadata": {
        "id": "BQHe05dS-LSz"
      },
      "execution_count": null,
      "outputs": []
    },
    {
      "cell_type": "code",
      "source": [
        "full_data = create_data_batches(X, y)"
      ],
      "metadata": {
        "id": "kxJ1FZJKG00R"
      },
      "execution_count": null,
      "outputs": []
    },
    {
      "cell_type": "code",
      "source": [
        "full_model = create_model()"
      ],
      "metadata": {
        "id": "SA1ivgsOUNSI"
      },
      "execution_count": null,
      "outputs": []
    },
    {
      "cell_type": "code",
      "source": [
        "full_model_tensorboard = create_tensorboard_callback()\n",
        "\n",
        "full_model_early_stopping = tf_keras.callbacks.EarlyStopping(monitor=\"accuracy\",\n",
        "                                                            patience=3)"
      ],
      "metadata": {
        "id": "fqbTa-azUPjh"
      },
      "execution_count": null,
      "outputs": []
    },
    {
      "cell_type": "code",
      "source": [
        "full_model.fit(x=full_data,\n",
        "               epochs=NUM_EPOCHS,\n",
        "               callbacks=[full_model_tensorboard,\n",
        "                           full_model_early_stopping])"
      ],
      "metadata": {
        "id": "9_Q8dpA2U6Ha"
      },
      "execution_count": null,
      "outputs": []
    },
    {
      "cell_type": "code",
      "source": [
        "save_model(full_model, suffix=\"all_images_Adam\")"
      ],
      "metadata": {
        "id": "YQiSpsVRUhJr"
      },
      "execution_count": null,
      "outputs": []
    },
    {
      "cell_type": "code",
      "source": [
        "load_full_model = load_model(\"/content/sample_data/Dog_Vision/models/20240829-04041724904296-all_images_Adam.keras\")"
      ],
      "metadata": {
        "id": "dwOFHU4uVfVy"
      },
      "execution_count": null,
      "outputs": []
    },
    {
      "cell_type": "code",
      "source": [
        "cp \"/content/sample_data/Dog_Vision/test.zip\" \".\""
      ],
      "metadata": {
        "id": "N7ONArzwVaNz"
      },
      "execution_count": null,
      "outputs": []
    },
    {
      "cell_type": "code",
      "source": [
        "!unzip /content/sample_data/Dog_Vision/test.zip -d /content/sample_data/Dog_Vision"
      ],
      "metadata": {
        "id": "MpOM3pJ7Vnjc"
      },
      "execution_count": null,
      "outputs": []
    },
    {
      "cell_type": "code",
      "source": [
        "test_path = \"/content/sample_data/Dog_Vision/test/\"\n",
        "test_filenames = [test_path + fname for fname in os.listdir(test_path)]\n",
        "\n",
        "test_filenames[:10]"
      ],
      "metadata": {
        "id": "uG7oTd_nQ2nD"
      },
      "execution_count": null,
      "outputs": []
    },
    {
      "cell_type": "code",
      "source": [
        "test_data = create_data_batches(test_filenames, test_data=True)"
      ],
      "metadata": {
        "id": "1uyVLEUjQ7m2"
      },
      "execution_count": null,
      "outputs": []
    },
    {
      "cell_type": "code",
      "source": [
        "test_predictions = load_full_model.predict(test_data,\n",
        "                                             verbose=1)"
      ],
      "metadata": {
        "id": "tw9d28i8Rrmh"
      },
      "execution_count": null,
      "outputs": []
    },
    {
      "cell_type": "code",
      "source": [
        "test_predictions[:10]"
      ],
      "metadata": {
        "id": "eFEZ-3YKR2qQ"
      },
      "execution_count": null,
      "outputs": []
    },
    {
      "cell_type": "code",
      "source": [
        "preds_df = pd.DataFrame(columns = [\"id\"] + list(unique_labels))\n",
        "preds_df"
      ],
      "metadata": {
        "id": "bnUK8PY6Ba0q"
      },
      "execution_count": null,
      "outputs": []
    },
    {
      "cell_type": "code",
      "source": [
        "preds_df[\"id\"] = [os.path.splitext(path)[0] for path in os.listdir(test_path)]\n",
        "preds_df.head()"
      ],
      "metadata": {
        "id": "f_5JUTjhB1gt"
      },
      "execution_count": null,
      "outputs": []
    },
    {
      "cell_type": "code",
      "source": [
        "preds_df[list(unique_labels)] = test_predictions\n",
        "preds_df.head()"
      ],
      "metadata": {
        "id": "2pg8MGc0CA6H"
      },
      "execution_count": null,
      "outputs": []
    },
    {
      "cell_type": "code",
      "source": [
        "preds_df.to_csv(\"/content/sample_data/Dog_Vision/prediction.csv\",\n",
        "                index=False)"
      ],
      "metadata": {
        "id": "4Q5-HN4wDKis"
      },
      "execution_count": null,
      "outputs": []
    },
    {
      "cell_type": "code",
      "source": [],
      "metadata": {
        "id": "_sqtx8A8aQL-"
      },
      "execution_count": null,
      "outputs": []
    }
  ]
}
