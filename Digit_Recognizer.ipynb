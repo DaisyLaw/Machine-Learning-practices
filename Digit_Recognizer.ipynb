{
  "cells": [
    {
      "cell_type": "markdown",
      "metadata": {
        "colab_type": "text",
        "id": "view-in-github"
      },
      "source": [
        "<a href=\"https://colab.research.google.com/github/DaisyLaw/Machine-Learning-practices/blob/main/Digit_Recognizer.ipynb\" target=\"_parent\"><img src=\"https://colab.research.google.com/assets/colab-badge.svg\" alt=\"Open In Colab\"/></a>"
      ]
    },
    {
      "cell_type": "code",
      "execution_count": null,
      "metadata": {
        "id": "MnS8hk_7cNmB"
      },
      "outputs": [],
      "source": [
        "!pip install --quiet tf_keras"
      ]
    },
    {
      "cell_type": "code",
      "execution_count": null,
      "metadata": {
        "id": "N_uEcjU5dEIv"
      },
      "outputs": [],
      "source": [
        "import os\n",
        "os.environ['TF_USE_LEGACY_KERAS'] = '1'"
      ]
    },
    {
      "cell_type": "code",
      "execution_count": null,
      "metadata": {
        "id": "tmpTHWP8dGl6"
      },
      "outputs": [],
      "source": [
        "import pandas as pd\n",
        "import numpy as np\n",
        "import matplotlib.pyplot as plt\n",
        "import time"
      ]
    },
    {
      "cell_type": "code",
      "execution_count": null,
      "metadata": {
        "id": "n2AMNoDL8v95"
      },
      "outputs": [],
      "source": [
        "import tf_keras\n",
        "import tensorflow as tf\n",
        "import tensorflow_hub as hub\n",
        "\n",
        "print(\"TF version:\", tf.__version__)\n",
        "print(\"Hub version:\", hub.__version__)\n",
        "\n",
        "# Check for GPU\n",
        "print(\"GPU\", \"available (YESS!!!!)\" if tf.config.list_physical_devices(\"GPU\") else \"not available :(\")"
      ]
    },
    {
      "cell_type": "code",
      "execution_count": null,
      "metadata": {
        "id": "IohFWhjKCQGu"
      },
      "outputs": [],
      "source": [
        "# Random seeds\n",
        "def set_seed(seed=0):\n",
        "    np.random.seed(seed)\n",
        "    tf.random.set_seed(seed)\n",
        "set_seed()"
      ]
    },
    {
      "cell_type": "code",
      "execution_count": null,
      "metadata": {
        "id": "1qtQe5Kn99H2"
      },
      "outputs": [],
      "source": [
        "train_df = pd.read_csv(\"/content/sample_data/Digit_Recognizer/Data/train.csv\")\n",
        "train_df.head()"
      ]
    },
    {
      "cell_type": "code",
      "execution_count": null,
      "metadata": {
        "id": "TIxxhX-CH4Sm"
      },
      "outputs": [],
      "source": [
        "len(train_df)"
      ]
    },
    {
      "cell_type": "code",
      "execution_count": null,
      "metadata": {
        "id": "2PRJ9wAKCuTj"
      },
      "outputs": [],
      "source": [
        "# Explore label distribution\n",
        "\n",
        "# Figure size\n",
        "plt.figure(figsize=(10,5))\n",
        "\n",
        "# Countplot\n",
        "sns.countplot(x='label', data=train_df)\n",
        "plt.title('Distribution of labels in training set')"
      ]
    },
    {
      "cell_type": "code",
      "execution_count": null,
      "metadata": {
        "id": "H2rY25PPHDGQ"
      },
      "outputs": [],
      "source": [
        "# Scale features to be in [0,1]\n",
        "X=train_df.drop('label', axis=1)/255\n",
        "\n",
        "# Reshape (-1 means unspecified)\n",
        "X = X.values.reshape(-1, 28, 28, 1)"
      ]
    },
    {
      "cell_type": "code",
      "execution_count": null,
      "metadata": {
        "id": "Zj5OoB_3IH0h"
      },
      "outputs": [],
      "source": [
        "# Preview first few images\n",
        "\n",
        "plt.figure(figsize=(6,6))\n",
        "for num in range(0,25):\n",
        "    plt.subplot(5,5,num+1)\n",
        "    plt.imshow(X[num, :, :, :], interpolation = \"none\", cmap = plt.cm.binary)\n",
        "    plt.axis('off')\n",
        "plt.tight_layout()\n",
        "plt.show()"
      ]
    },
    {
      "cell_type": "code",
      "execution_count": null,
      "metadata": {
        "id": "nvwsbN9pIoCe"
      },
      "outputs": [],
      "source": [
        "y = train_df[\"label\"]\n",
        "len(y)"
      ]
    },
    {
      "cell_type": "code",
      "execution_count": null,
      "metadata": {},
      "outputs": [],
      "source": [
        "path_test = \"/content/sample_data/Digit_Recognizer/Data/test.csv\"\n",
        "test_df = pd.read_csv(path_test)\n",
        "test_df.info()"
      ]
    },
    {
      "cell_type": "code",
      "execution_count": null,
      "metadata": {},
      "outputs": [],
      "source": [
        "test_df.head()"
      ]
    },
    {
      "cell_type": "code",
      "execution_count": null,
      "metadata": {},
      "outputs": [],
      "source": [
        "# Save test data index for submission\n",
        "test_index = test_df.index\n",
        "\n",
        "# Reshape\n",
        "test_data = test_df.values.reshape(-1, 28, 28, 1)"
      ]
    },
    {
      "cell_type": "code",
      "execution_count": null,
      "metadata": {},
      "outputs": [],
      "source": [
        "plt.figure(figsize=(6,6))\n",
        "for num in range(0,25):\n",
        "    plt.subplot(5,5,num+1)\n",
        "    plt.imshow(test_data[num, :, :, :], interpolation = \"none\", cmap = plt.cm.binary)\n",
        "    plt.axis('off')\n",
        "plt.tight_layout()\n",
        "plt.show()"
      ]
    },
    {
      "cell_type": "code",
      "execution_count": null,
      "metadata": {},
      "outputs": [],
      "source": [
        "# Data Augmentation\n",
        "\n",
        "from tensorflow.keras.preprocessing.image import ImageDataGenerator\n",
        "\n",
        "datagen = ImageDataGenerator(\n",
        "    rotation_range = 18,           # 18 degrees\n",
        "    zoom_range=0.2,                # 20 %\n",
        "    fill_mode='constant',          # edge pixels\n",
        "    cval=0                         # fill value\n",
        ")\n",
        "\n",
        "aug = datagen.flow(X[42].reshape(-1, 28, 28, 1))\n",
        "\n",
        "# Plot using a for loop\n",
        "fig, axes = plt.subplots(2, 8, figsize = (15, 4))\n",
        "plt.suptitle('Random Rotation & Random Zoom', fontsize=20, y=1.05)\n",
        "axes = axes.ravel()\n",
        "\n",
        "for i in range(16):\n",
        "    \n",
        "    aug_img = next(aug)[0]\n",
        "    axes[i].imshow(aug_img, cmap = 'gray')\n",
        "    axes[i].axis('off')\n",
        "    \n",
        "plt.show()"
      ]
    },
    {
      "cell_type": "code",
      "execution_count": null,
      "metadata": {
        "id": "BfKD60qmEWhX"
      },
      "outputs": [],
      "source": [
        "# Define model\n",
        "def build_model():\n",
        "    model = tf_keras.models.Sequential([\n",
        "    \n",
        "        # Data Augmentation\n",
        "        tf_keras.layers.RandomRotation(factor=0.05, fill_mode='constant'),     # 18 degrees\n",
        "        tf_keras.layers.RandomZoom(height_factor=(-0.2,0.2), width_factor=(-0.2,0.2), fill_mode='constant'),  # 20%\n",
        "\n",
        "        # Convolutional layer 1\n",
        "        tf_keras.layers.Conv2D(filters=64, kernel_size=5, strides=1, padding='same', input_shape=[28,28,1], activation='relu'),\n",
        "        tf_keras.layers.MaxPool2D(pool_size=2, padding='same'),\n",
        "        tf_keras.layers.Dropout(rate=0.3),\n",
        "\n",
        "        # Convolutional layer 2\n",
        "        tf_keras.layers.Conv2D(filters=128, kernel_size=3, strides=1, padding='same', activation='relu'),\n",
        "        tf_keras.layers.MaxPool2D(pool_size=4, padding='same'),\n",
        "        tf_keras.layers.Dropout(rate=0.3),\n",
        "        tf_keras.layers.Flatten(),\n",
        "\n",
        "        # Hidden layer 3\n",
        "        tf_keras.layers.Dense(units=256, activation='relu'),\n",
        "        tf_keras.layers.Dropout(rate=0.4),\n",
        "\n",
        "        # Output layer (softmax returns a probability distribution)\n",
        "        tf_keras.layers.Dense(units=10, activation='softmax')\n",
        "\n",
        "])\n",
        "\n",
        "    # Define optimizer, loss function and accuracy metric\n",
        "    model.compile(optimizer='adam',\n",
        "                  loss='sparse_categorical_crossentropy',\n",
        "                  metrics=['sparse_categorical_accuracy'])\n",
        "\n",
        "    return model"
      ]
    },
    {
      "cell_type": "code",
      "execution_count": null,
      "metadata": {
        "id": "Fj8YEnmHKvD4"
      },
      "outputs": [],
      "source": [
        "from tensorflow.keras import callbacks\n",
        "\n",
        "# Define early stopping callback on validation loss\n",
        "early_stopping = callbacks.EarlyStopping(\n",
        "    monitor='val_loss',\n",
        "    patience=20,\n",
        "    restore_best_weights=True,\n",
        ")\n",
        "\n",
        "# Reduce learning rate when validation loss plateaus\n",
        "reduce_lr = callbacks.ReduceLROnPlateau(\n",
        "    monitor='val_loss',\n",
        "    factor=0.5,\n",
        "    patience=5\n",
        ")"
      ]
    },
    {
      "cell_type": "code",
      "execution_count": null,
      "metadata": {},
      "outputs": [],
      "source": [
        "#Cross validation\n",
        "from sklearn.model_selection import train_test_split, StratifiedKFold\n",
        "from sklearn.metrics import accuracy_score\n",
        "\n",
        "FOLDS = 10\n",
        "EPOCHS = 200\n",
        "BATCH_SIZE = 500\n",
        "\n",
        "test_preds = np.zeros((1, 1))\n",
        "scores = []\n",
        "times = []\n",
        "history_df = pd.DataFrame()\n",
        "\n",
        "cv = StratifiedKFold(n_splits=FOLDS, shuffle=True, random_state=0)\n",
        "\n",
        "for fold, (train_idx, val_idx) in enumerate(cv.split(X, y)):\n",
        "    # Start timer\n",
        "    start = time.time()\n",
        "\n",
        "    # get training and validation sets\n",
        "    X_train, X_valid = X[train_idx], X[val_idx]\n",
        "    y_train, y_valid = y[train_idx], y[val_idx]\n",
        "\n",
        "    # Build and train model\n",
        "    model = build_model()\n",
        "    fold_history = model.fit(\n",
        "        X_train,\n",
        "        y_train,\n",
        "        validation_data=(X_valid, y_valid),\n",
        "        epochs=EPOCHS,\n",
        "        batch_size=BATCH_SIZE,\n",
        "        #callbacks=[early_stopping, reduce_lr],\n",
        "        verbose=False\n",
        "    )\n",
        "\n",
        "    history_df = pd.concat([history_df, pd.DataFrame(fold_history.history)], ignore_index=True)\n",
        "\n",
        "\n",
        "    # Make predictions and measure accuracy\n",
        "    y_pred = np.argmax(model.predict(X_valid), axis=1)\n",
        "    score = accuracy_score(y_valid, y_pred)\n",
        "    scores.append(score)\n",
        "\n",
        "    # Store predictions\n",
        "    test_preds = test_preds + model.predict(test_data)\n",
        "\n",
        "    # Stop timer\n",
        "    stop = time.time()\n",
        "    times.append((stop - start)/60)\n",
        "\n",
        "    # Print accuracy and time\n",
        "    print(f'Fold {fold} - Accuracy: {score}, Time: {round((stop - start)/60,1)} mins')\n",
        "\n",
        "print('')\n",
        "print(f'Mean Accuracy: {np.mean(scores)}')"
      ]
    },
    {
      "cell_type": "code",
      "execution_count": null,
      "metadata": {
        "id": "qrV6PtFGK_YE"
      },
      "outputs": [],
      "source": [
        "#Plot fold accuracy\n",
        "\n",
        "# Figure size\n",
        "plt.figure(figsize=(10,5))\n",
        "\n",
        "# Line plot\n",
        "plt.plot(scores, label='scores')\n",
        "plt.plot(np.mean(scores)*np.ones(len(scores)), c='black', label='mean')\n",
        "\n",
        "# Aesthetics\n",
        "plt.title('Fold accuracy')\n",
        "plt.xlabel('Fold')\n",
        "plt.ylabel('Accuracy')\n",
        "plt.ylim([0.99,1])\n",
        "plt.legend()"
      ]
    },
    {
      "cell_type": "code",
      "execution_count": null,
      "metadata": {
        "id": "noVfstzLMCW6"
      },
      "outputs": [],
      "source": [
        "#Plot fold time\n",
        "\n",
        "# Figure size\n",
        "plt.figure(figsize=(10,5))\n",
        "\n",
        "# Line plot\n",
        "plt.plot(times, label='times', c='orange')\n",
        "plt.plot(np.mean(times)*np.ones(len(times)), c='black', label='mean')\n",
        "\n",
        "# Aesthetics\n",
        "plt.title('Fold time')\n",
        "plt.xlabel('Fold')\n",
        "plt.ylabel('Time (mins)')\n",
        "plt.legend()"
      ]
    },
    {
      "cell_type": "code",
      "execution_count": null,
      "metadata": {
        "id": "P1OUUN1nMsM0"
      },
      "outputs": [],
      "source": [
        "#Plot learning curves\n",
        "for i in range(FOLDS):\n",
        "    fig, axes = plt.subplots(nrows=1, ncols=2, figsize=(16,4))\n",
        "    plt.suptitle('Fold '+str(i+1), fontsize=20)\n",
        "\n",
        "    plt.subplot(1,2,1)\n",
        "    ax=history_df.reset_index().loc[EPOCHS*i+1:EPOCHS*(i+1)-1, ['loss', 'val_loss']].plot(title=\"Cross-entropy\", ax=axes[0])\n",
        "    plt.xlabel('Epoch')\n",
        "\n",
        "    plt.subplot(1,2,2)\n",
        "    ax=history_df.reset_index().loc[EPOCHS*i+1:EPOCHS*(i+1)-1, ['sparse_categorical_accuracy', 'val_sparse_categorical_accuracy']].plot(title=\"Accuracy\", ax=axes[1])\n",
        "    plt.xlabel('Epoch')\n"
      ]
    },
    {
      "cell_type": "code",
      "execution_count": null,
      "metadata": {
        "id": "kd42xTGUNDbv"
      },
      "outputs": [],
      "source": [
        "# Soft voting to ensemble predictions\n",
        "test_preds = np.argmax(test_preds, axis=1)"
      ]
    },
    {
      "cell_type": "code",
      "execution_count": null,
      "metadata": {},
      "outputs": [],
      "source": [
        "# Plot some model predictions\n",
        "plt.figure(figsize=(15,3.5))\n",
        "plt.suptitle('Model predictions', fontsize=20, y=1.05)\n",
        "\n",
        "# Subplot\n",
        "for i in range(20):\n",
        "    img = test_data[i];\n",
        "    ax=plt.subplot(2, 10, i+1)\n",
        "    ax.grid(False)\n",
        "    ax.get_xaxis().set_visible(False)\n",
        "    ax.get_yaxis().set_visible(False)\n",
        "    ax.title.set_text(f'Pred:{test_preds[i]}')\n",
        "    plt.imshow(img, cmap='gray')\n",
        "    \n",
        "plt.show()"
      ]
    },
    {
      "cell_type": "code",
      "execution_count": null,
      "metadata": {},
      "outputs": [],
      "source": [
        "# Save predictions to file\n",
        "output = pd.DataFrame({'ImageId': test_index+1,\n",
        "                       'Label': test_preds})\n",
        "\n",
        "# Check format\n",
        "output.head()"
      ]
    },
    {
      "cell_type": "code",
      "execution_count": null,
      "metadata": {
        "id": "QytaLDun6Acd"
      },
      "outputs": [],
      "source": [
        "output.to_csv('/content/sample_data/Digit_Recognizer/submission-02.csv', index=False)"
      ]
    },
    {
      "cell_type": "code",
      "execution_count": null,
      "metadata": {
        "id": "-cu3K7-76JhV"
      },
      "outputs": [],
      "source": []
    }
  ],
  "metadata": {
    "accelerator": "GPU",
    "colab": {
      "authorship_tag": "ABX9TyPu03s/DE3HX2bOP3t5Q1Zb",
      "include_colab_link": true,
      "mount_file_id": "1EvRQ91LRRR7sLS9JAB8_PZdbY3CvKOkq",
      "private_outputs": true,
      "provenance": []
    },
    "gpuClass": "standard",
    "kernelspec": {
      "display_name": "Python 3",
      "name": "python3"
    },
    "language_info": {
      "name": "python"
    }
  },
  "nbformat": 4,
  "nbformat_minor": 0
}
