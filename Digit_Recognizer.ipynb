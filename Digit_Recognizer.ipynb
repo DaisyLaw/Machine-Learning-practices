{
  "nbformat": 4,
  "nbformat_minor": 0,
  "metadata": {
    "colab": {
      "provenance": [],
      "private_outputs": true,
      "mount_file_id": "1EvRQ91LRRR7sLS9JAB8_PZdbY3CvKOkq",
      "authorship_tag": "ABX9TyPu03s/DE3HX2bOP3t5Q1Zb",
      "include_colab_link": true
    },
    "kernelspec": {
      "name": "python3",
      "display_name": "Python 3"
    },
    "language_info": {
      "name": "python"
    },
    "accelerator": "GPU",
    "gpuClass": "standard"
  },
  "cells": [
    {
      "cell_type": "markdown",
      "metadata": {
        "id": "view-in-github",
        "colab_type": "text"
      },
      "source": [
        "<a href=\"https://colab.research.google.com/github/DaisyLaw/Machine-Learning-practices/blob/main/Digit_Recognizer.ipynb\" target=\"_parent\"><img src=\"https://colab.research.google.com/assets/colab-badge.svg\" alt=\"Open In Colab\"/></a>"
      ]
    },
    {
      "cell_type": "code",
      "source": [
        "!pip install --quiet tf_keras"
      ],
      "metadata": {
        "id": "MnS8hk_7cNmB"
      },
      "execution_count": null,
      "outputs": []
    },
    {
      "cell_type": "code",
      "source": [
        "import os\n",
        "os.environ['TF_USE_LEGACY_KERAS'] = '1'"
      ],
      "metadata": {
        "id": "N_uEcjU5dEIv"
      },
      "execution_count": null,
      "outputs": []
    },
    {
      "cell_type": "code",
      "source": [
        "import tf_keras"
      ],
      "metadata": {
        "id": "tmpTHWP8dGl6"
      },
      "execution_count": null,
      "outputs": []
    },
    {
      "cell_type": "code",
      "execution_count": null,
      "metadata": {
        "id": "n2AMNoDL8v95"
      },
      "outputs": [],
      "source": [
        "import tensorflow as tf\n",
        "import tensorflow_hub as hub\n",
        "\n",
        "print(\"TF version:\", tf.__version__)\n",
        "print(\"Hub version:\", hub.__version__)\n",
        "\n",
        "# Check for GPU\n",
        "print(\"GPU\", \"available (YESS!!!!)\" if tf.config.list_physical_devices(\"GPU\") else \"not available :(\")"
      ]
    },
    {
      "cell_type": "code",
      "source": [
        "import pandas as pd\n",
        "import numpy as np\n",
        "import matplotlib.pyplot as plt"
      ],
      "metadata": {
        "id": "IohFWhjKCQGu"
      },
      "execution_count": null,
      "outputs": []
    },
    {
      "cell_type": "code",
      "source": [
        "import pandas as pd\n",
        "\n",
        "train_df = pd.read_csv(\"/content/sample_data/Digit_Recognizer/Data/train.csv\")\n",
        "train_df.head()"
      ],
      "metadata": {
        "id": "1qtQe5Kn99H2"
      },
      "execution_count": null,
      "outputs": []
    },
    {
      "cell_type": "code",
      "source": [
        "len(train_df)"
      ],
      "metadata": {
        "id": "TIxxhX-CH4Sm"
      },
      "execution_count": null,
      "outputs": []
    },
    {
      "cell_type": "code",
      "source": [
        "train_df['label'].unique()"
      ],
      "metadata": {
        "id": "POMfozKf_bTe"
      },
      "execution_count": null,
      "outputs": []
    },
    {
      "cell_type": "code",
      "source": [
        "plt.hist(train_df['label'], bins=range(11), rwidth=0.6, align='left')\n",
        "plt.xticks(range(10))\n",
        "plt.title(\"Distribution of labels across training data\")\n",
        "plt.ylabel('Occurences')\n",
        "plt.xlabel('Labels')\n",
        "plt.show()"
      ],
      "metadata": {
        "id": "2PRJ9wAKCuTj"
      },
      "execution_count": null,
      "outputs": []
    },
    {
      "cell_type": "code",
      "source": [
        "X = train_df.iloc[:,1:]\n",
        "X = X.values.reshape(-1, 28, 28, 1)\n",
        "X = X/255.0\n",
        "X.shape"
      ],
      "metadata": {
        "id": "H2rY25PPHDGQ"
      },
      "execution_count": null,
      "outputs": []
    },
    {
      "cell_type": "code",
      "source": [
        "plt.figure(figsize=(6,6))\n",
        "for num in range(0,25):\n",
        "    plt.subplot(5,5,num+1)\n",
        "    plt.imshow(X[num, :, :, :], interpolation = \"none\", cmap = plt.cm.binary)\n",
        "    plt.axis('off')\n",
        "plt.tight_layout()\n",
        "plt.show()"
      ],
      "metadata": {
        "id": "Zj5OoB_3IH0h"
      },
      "execution_count": null,
      "outputs": []
    },
    {
      "cell_type": "code",
      "source": [
        "y = train_df[\"label\"]\n",
        "len(y)"
      ],
      "metadata": {
        "id": "nvwsbN9pIoCe"
      },
      "execution_count": null,
      "outputs": []
    },
    {
      "cell_type": "code",
      "source": [
        "# Import train_test_split from Scikit-Learn\n",
        "from sklearn.model_selection import train_test_split\n",
        "\n",
        "#Splitting the training data into traizning and validation data for the first 1000 digits.\n",
        "X_train, X_validation, y_train, y_validation = train_test_split(X,\n",
        "                                                                y,\n",
        "                                                                test_size = 0.2,\n",
        "                                                                random_state = 10)\n",
        "\n",
        "len(X_train), len(y_train), len(X_validation), len(y_validation)"
      ],
      "metadata": {
        "id": "twIulbS2Dd3R"
      },
      "execution_count": null,
      "outputs": []
    },
    {
      "cell_type": "code",
      "source": [
        "from tensorflow.keras.preprocessing.image import ImageDataGenerator\n",
        "\n",
        "datagen = ImageDataGenerator(\n",
        "        rotation_range=20,  # randomly rotate images in the range 20 degrees\n",
        "        zoom_range = 0.2, # Randomly zoom image 20%\n",
        "        width_shift_range=0.2,  # randomly shift images horizontally 20%\n",
        "        height_shift_range=0.2,  # randomly shift images vertically 20%\n",
        "        shear_range=0.2) #shear intensity 20%\n",
        "\n",
        "\n",
        "datagen.fit(X_train)"
      ],
      "metadata": {
        "id": "MU5Fmt8r-LvT"
      },
      "execution_count": null,
      "outputs": []
    },
    {
      "cell_type": "code",
      "source": [
        "#Define an accuracy callback\n",
        "class myAccuracyCallback(tf.keras.callbacks.Callback):\n",
        "        # Define the correct function signature for on_epoch_end\n",
        "        def on_epoch_end(self, epoch, logs={}):\n",
        "            if logs.get('val_accuracy') is not None and logs.get('val_accuracy') > 0.999:\n",
        "                print(\"\\nReached 99.9% accuracy so cancelling training!\")\n",
        "\n",
        "                # Stop training once the above condition is met\n",
        "                self.model.stop_training = True"
      ],
      "metadata": {
        "id": "BfKD60qmEWhX"
      },
      "execution_count": null,
      "outputs": []
    },
    {
      "cell_type": "code",
      "source": [
        "#Initialize hyperparameters\n",
        "EPOCHS = 50\n",
        "BATCH_SIZE = 250\n",
        "\n",
        "# Instantiate the callback class\n",
        "accuracyCallbacks = myAccuracyCallback()\n",
        "#tensorboard_callback = tf.keras.callbacks.TensorBoard()\n",
        "\n",
        "# Create early stopping (once our model stops improving, stop training)\n",
        "#early_stopping = tf.keras.callbacks.EarlyStopping(monitor=\"val_accuracy\",\n",
        "#                                                  patience=3) # stops after 3 rounds of no improvements\n",
        "\n",
        "# Define the model\n",
        "model = tf_keras.models.Sequential([\n",
        "    tf_keras.layers.Conv2D(64, 7, activation='relu', padding='same', input_shape=[28, 28, 1]),\n",
        "    tf_keras.layers.MaxPooling2D(2),\n",
        "    tf_keras.layers.Conv2D(128, 3, activation='relu', padding='same'),\n",
        "    tf_keras.layers.MaxPooling2D(2),\n",
        "    tf_keras.layers.Conv2D(256, 3, activation='relu', padding='same'),\n",
        "    tf_keras.layers.MaxPooling2D(2),\n",
        "    tf_keras.layers.Flatten(),\n",
        "    tf_keras.layers.Dense(512, activation='relu'),\n",
        "    tf_keras.layers.Dropout(rate=0.3),\n",
        "    tf_keras.layers.Dense(256, activation='relu'),\n",
        "    tf_keras.layers.Dropout(rate=0.3),\n",
        "    tf_keras.layers.Dense(128, activation='relu'),\n",
        "    tf_keras.layers.Dropout(rate=0.3),\n",
        "    tf_keras.layers.Dense(10, activation='softmax')\n",
        "])\n",
        "\n",
        "# Compile the model\n",
        "model.compile(optimizer='adam',\n",
        "              loss='sparse_categorical_crossentropy',\n",
        "              metrics=['accuracy'])\n",
        "\n",
        "# Fit the model adding the callback and save the training history\n",
        "history_1000_data = model.fit(datagen.flow(X_train, y_train, batch_size=BATCH_SIZE),\n",
        "                    validation_data=(X_validation, y_validation),\n",
        "                    steps_per_epoch=len(X_train)/BATCH_SIZE,\n",
        "                    epochs=EPOCHS,\n",
        "                    callbacks=[accuracyCallbacks])"
      ],
      "metadata": {
        "id": "Fj8YEnmHKvD4"
      },
      "execution_count": null,
      "outputs": []
    },
    {
      "cell_type": "code",
      "source": [
        "#Summarize history for accuracy\n",
        "plt.plot(history_1000_data.history['accuracy'])\n",
        "plt.plot(history_1000_data.history['val_accuracy'])\n",
        "plt.title('model accuracy')\n",
        "plt.ylabel('accuracy')\n",
        "plt.xlabel('epoch')\n",
        "plt.legend(['train', 'test'], loc='upper left')\n",
        "plt.grid()\n",
        "plt.show()\n",
        "# summarize history for loss\n",
        "plt.plot(history_1000_data.history['loss'])\n",
        "plt.plot(history_1000_data.history['val_loss'])\n",
        "plt.title('model loss')\n",
        "plt.ylabel('loss')\n",
        "plt.xlabel('epoch')\n",
        "plt.legend(['train', 'test'], loc='upper left')\n",
        "plt.grid()\n",
        "plt.show()"
      ],
      "metadata": {
        "id": "qrV6PtFGK_YE"
      },
      "execution_count": null,
      "outputs": []
    },
    {
      "cell_type": "code",
      "source": [
        "X_train, X_validation, y_train, y_validation = train_test_split(X,\n",
        "                                                                y,\n",
        "                                                                test_size = 0.2,\n",
        "                                                                random_state = 10)\n",
        "\n",
        "len(X_train), len(y_train), len(X_validation), len(y_validation)"
      ],
      "metadata": {
        "id": "noVfstzLMCW6"
      },
      "execution_count": null,
      "outputs": []
    },
    {
      "cell_type": "code",
      "source": [
        "history_full_data = model.fit(datagen.flow(X_train, y_train, batch_size=BATCH_SIZE),\n",
        "                              validation_data=(X_validation, y_validation),\n",
        "                              steps_per_epoch=len(X_train)/BATCH_SIZE,\n",
        "                              epochs=EPOCHS,\n",
        "                              callbacks=[accuracyCallbacks])"
      ],
      "metadata": {
        "id": "P1OUUN1nMsM0"
      },
      "execution_count": null,
      "outputs": []
    },
    {
      "cell_type": "code",
      "source": [
        "#Summarize history for accuracy\n",
        "plt.plot(history_full_data.history['accuracy'])\n",
        "plt.plot(history_full_data.history['val_accuracy'])\n",
        "plt.title('model accuracy')\n",
        "plt.ylabel('accuracy')\n",
        "plt.xlabel('epoch')\n",
        "plt.legend(['train', 'test'], loc='upper left')\n",
        "plt.grid()\n",
        "plt.show()\n",
        "# summarize history for loss\n",
        "plt.plot(history_full_data.history['loss'])\n",
        "plt.plot(history_full_data.history['val_loss'])\n",
        "plt.title('model loss')\n",
        "plt.ylabel('loss')\n",
        "plt.xlabel('epoch')\n",
        "plt.legend(['train', 'test'], loc='upper left')\n",
        "plt.grid()\n",
        "plt.show()"
      ],
      "metadata": {
        "id": "kd42xTGUNDbv"
      },
      "execution_count": null,
      "outputs": []
    },
    {
      "cell_type": "code",
      "source": [
        "path_test = \"/content/sample_data/Digit_Recognizer/Data/test.csv\"\n",
        "test_df = pd.read_csv(path_test)\n",
        "test_df.info()"
      ],
      "metadata": {
        "id": "e-h9gckcOKV5"
      },
      "execution_count": null,
      "outputs": []
    },
    {
      "cell_type": "code",
      "source": [
        "test_df.head()"
      ],
      "metadata": {
        "id": "I5NNWcUf4Rin"
      },
      "execution_count": null,
      "outputs": []
    },
    {
      "cell_type": "code",
      "source": [
        "X_test = test_df.values.reshape(-1, 28, 28, 1)\n",
        "X_test = X_test/255.0\n",
        "X_test.shape"
      ],
      "metadata": {
        "id": "PLQbS-cN43AH"
      },
      "execution_count": null,
      "outputs": []
    },
    {
      "cell_type": "code",
      "source": [
        "plt.figure(figsize=(6,6))\n",
        "for num in range(0,25):\n",
        "    plt.subplot(5,5,num+1)\n",
        "    plt.imshow(X_test[num, :, :, :], interpolation = \"none\", cmap = plt.cm.binary)\n",
        "    plt.axis('off')\n",
        "plt.tight_layout()\n",
        "plt.show()"
      ],
      "metadata": {
        "id": "prMyh3wS4f0J"
      },
      "execution_count": null,
      "outputs": []
    },
    {
      "cell_type": "code",
      "source": [
        "y_pred = model.predict(X_test)\n",
        "preds_test = np.argmax(y_pred,axis = 1)\n",
        "\n",
        "sample_sub = pd.read_csv(\"/content/sample_data/Digit_Recognizer/sample_submission.csv\")\n",
        "test_id = sample_sub.ImageId.copy()\n",
        "\n",
        "results = pd.Series(preds_test,name=\"Label\")\n",
        "output = pd.DataFrame({'ImageId': test_id,\n",
        "                       'Label': preds_test})\n",
        "\n",
        "output.head(10)"
      ],
      "metadata": {
        "id": "5TG_wDQk4G94"
      },
      "execution_count": null,
      "outputs": []
    },
    {
      "cell_type": "code",
      "source": [
        "output.to_csv('/content/sample_data/Digit_Recognizer/submission-01.csv', index=False)"
      ],
      "metadata": {
        "id": "QytaLDun6Acd"
      },
      "execution_count": null,
      "outputs": []
    },
    {
      "cell_type": "code",
      "source": [],
      "metadata": {
        "id": "-cu3K7-76JhV"
      },
      "execution_count": null,
      "outputs": []
    }
  ]
}